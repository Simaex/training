{
 "cells": [
  {
   "cell_type": "code",
   "execution_count": 1,
   "metadata": {
    "collapsed": true
   },
   "outputs": [],
   "source": [
    "from squirro_client import SquirroClient"
   ]
  },
  {
   "cell_type": "code",
   "execution_count": 2,
   "metadata": {
    "collapsed": true
   },
   "outputs": [],
   "source": [
    "CLUSTER='http://172.16.213.160:81/'\n",
    "TOKEN='6cd91079f28105bafdfa525b546120eda0d53ac2f5227d3fb9d3be2a0404dcd7a86c4e7a902da2c9d7493a4a6dcba75f5d81d7354bd7e2f6414b415bae284108'\n",
    "PROJECT_ID='fvQAaO0-RHqN0NbLkQGcnw'"
   ]
  },
  {
   "cell_type": "markdown",
   "metadata": {},
   "source": [
    "# Connect to Squirro"
   ]
  },
  {
   "cell_type": "code",
   "execution_count": 3,
   "metadata": {
    "collapsed": true
   },
   "outputs": [],
   "source": [
    "client = SquirroClient(client_id=None, client_secret=None, cluster=CLUSTER)\n",
    "client.authenticate(refresh_token=TOKEN)"
   ]
  },
  {
   "cell_type": "markdown",
   "metadata": {},
   "source": [
    "## Take a Look at the data"
   ]
  },
  {
   "cell_type": "code",
   "execution_count": 7,
   "metadata": {},
   "outputs": [
    {
     "name": "stdout",
     "output_type": "stream",
     "text": [
      "M - John\n",
      "M - Michael\n",
      "F - Rebecca\n",
      "M - Emil\n",
      "M - Keith\n",
      "M - Jingdong\n",
      "M - Scott\n",
      "M - David\n",
      "M - Oliver\n",
      "M - Paul\n"
     ]
    }
   ],
   "source": [
    "for item in client.query(project_id=PROJECT_ID, query='*', count=10)['items']:\n",
    "    \n",
    "    first_name = item['keywords'].get('first_name', ['?'])[0]\n",
    "    gender = item['keywords'].get('gender', ['?'])[0]\n",
    "    \n",
    "    print u'{gender} - {name}'.format(\n",
    "        name=first_name, \n",
    "        gender=gender)"
   ]
  },
  {
   "cell_type": "markdown",
   "metadata": {},
   "source": [
    "# Create the Workflow"
   ]
  },
  {
   "cell_type": "code",
   "execution_count": 12,
   "metadata": {},
   "outputs": [
    {
     "data": {
      "text/plain": [
       "{u'machinelearning_workflows': []}"
      ]
     },
     "execution_count": 12,
     "metadata": {},
     "output_type": "execute_result"
    }
   ],
   "source": [
    "client.get_machinelearning_workflows(project_id=PROJECT_ID)"
   ]
  },
  {
   "cell_type": "code",
   "execution_count": 13,
   "metadata": {
    "collapsed": true
   },
   "outputs": [],
   "source": [
    "workflow = {\n",
    "  \"dataset\": {\n",
    "    \"train\": {\n",
    "      \"query_string\": \"gender:*\"\n",
    "    },\n",
    "    \"process\": {\n",
    "      \"query_string\": \"*\"\n",
    "    }\n",
    "  },\n",
    "  \"pipeline\": [\n",
    "    {\n",
    "      \"step\": \"loader\",\n",
    "      \"type\": \"squirro_query\",\n",
    "      \"fields\": [\n",
    "        \"keywords.gender\",\n",
    "        \"keywords.first_name\"\n",
    "      ]\n",
    "    },\n",
    "    {\n",
    "      \"step\": \"filter\",\n",
    "      \"type\": \"empty\",\n",
    "      \"fields\": [\n",
    "        \"keywords.first_name\",\n",
    "        \"keywords.gender\"\n",
    "      ]\n",
    "    },\n",
    "    {\n",
    "      \"step\": \"filter\",\n",
    "      \"type\": \"join\",\n",
    "      \"input_field\": \"keywords.first_name\",\n",
    "      \"output_field\": \"keywords.first_name\"\n",
    "    },\n",
    "    {\n",
    "      \"step\": \"normalizers\",\n",
    "      \"types\": [\n",
    "        \"html\",\n",
    "        \"punctuation\",\n",
    "        \"lowercase\",\n",
    "        \"character\"\n",
    "      ],\n",
    "      \"fields\": [\n",
    "        \"keywords.first_name\"\n",
    "      ]\n",
    "    },\n",
    "    {\n",
    "      \"step\": \"tokenizer\",\n",
    "      \"type\": \"spaces\",\n",
    "      \"fields\": [\n",
    "        \"keywords.first_name\"\n",
    "      ]\n",
    "    },\n",
    "    {\n",
    "      \"step\": \"embedder\",\n",
    "      \"type\": \"dictionary\",\n",
    "      \"batch_size\": 1024,\n",
    "      \"input_field\": \"keywords.first_name\",\n",
    "      \"output_field\": \"embedded_text\"\n",
    "    },\n",
    "    {\n",
    "      \"step\": \"checkpoint\",\n",
    "      \"type\": \"disk\",\n",
    "      \"do_randomize\": True,\n",
    "      \"batch_size\": 1\n",
    "    },\n",
    "    {\n",
    "      \"step\": \"classifier\",\n",
    "      \"type\": \"seq2one\",\n",
    "      \"batch_size\": 1024,\n",
    "      \"dict_name\": \"dictionary\",\n",
    "      \"dropout_fraction\": 0.5,\n",
    "      \"embedding_dim\": 50,\n",
    "      \"explanation_field\": \"explanantion\",\n",
    "      \"input_field\": \"embedded_text\",\n",
    "      \"label_field\": \"keywords.gender\",\n",
    "      \"labels\": [\n",
    "        \"M\",\n",
    "        \"F\"\n",
    "      ],\n",
    "      \"max_sequence_length\": 1000,\n",
    "      \"mini_batch_size\": 64,\n",
    "      \"n_epochs\": 10,\n",
    "      \"output_field\": \"keywords.pred_gender\"\n",
    "    },\n",
    "    {\n",
    "      \"step\": \"saver\",\n",
    "      \"type\": \"squirro_item\",\n",
    "      \"batch_size\": 1000,\n",
    "      \"fields\": [\n",
    "        \"keywords.pred_gender\"\n",
    "      ]\n",
    "    }\n",
    "  ]\n",
    "}"
   ]
  },
  {
   "cell_type": "code",
   "execution_count": 14,
   "metadata": {
    "collapsed": true
   },
   "outputs": [],
   "source": [
    "# Upload the workflow\n",
    "workflow_id = client.new_machinelearning_workflow(name='gender_predictor', project_id=PROJECT_ID, config=workflow).get('id')"
   ]
  },
  {
   "cell_type": "code",
   "execution_count": 15,
   "metadata": {},
   "outputs": [
    {
     "data": {
      "text/plain": [
       "{u'machinelearning_workflow': {u'config': {u'dataset': {u'process': {u'query_string': u'*'},\n",
       "    u'train': {u'query_string': u'gender:*'}},\n",
       "   u'pipeline': [{u'fields': [u'keywords.gender', u'keywords.first_name'],\n",
       "     u'step': u'loader',\n",
       "     u'type': u'squirro_query'},\n",
       "    {u'fields': [u'keywords.first_name', u'keywords.gender'],\n",
       "     u'step': u'filter',\n",
       "     u'type': u'empty'},\n",
       "    {u'input_field': u'keywords.first_name',\n",
       "     u'output_field': u'keywords.first_name',\n",
       "     u'step': u'filter',\n",
       "     u'type': u'join'},\n",
       "    {u'fields': [u'keywords.first_name'],\n",
       "     u'step': u'normalizers',\n",
       "     u'types': [u'html', u'punctuation', u'lowercase', u'character']},\n",
       "    {u'fields': [u'keywords.first_name'],\n",
       "     u'step': u'tokenizer',\n",
       "     u'type': u'spaces'},\n",
       "    {u'batch_size': 1024,\n",
       "     u'input_field': u'keywords.first_name',\n",
       "     u'output_field': u'embedded_text',\n",
       "     u'step': u'embedder',\n",
       "     u'type': u'dictionary'},\n",
       "    {u'batch_size': 1,\n",
       "     u'do_randomize': True,\n",
       "     u'step': u'checkpoint',\n",
       "     u'type': u'disk'},\n",
       "    {u'batch_size': 1024,\n",
       "     u'dict_name': u'dictionary',\n",
       "     u'dropout_fraction': 0.5,\n",
       "     u'embedding_dim': 50,\n",
       "     u'explanation_field': u'explanantion',\n",
       "     u'input_field': u'embedded_text',\n",
       "     u'label_field': u'keywords.gender',\n",
       "     u'labels': [u'M', u'F'],\n",
       "     u'max_sequence_length': 1000,\n",
       "     u'mini_batch_size': 64,\n",
       "     u'n_epochs': 10,\n",
       "     u'output_field': u'keywords.pred_gender',\n",
       "     u'step': u'classifier',\n",
       "     u'type': u'seq2one'},\n",
       "    {u'batch_size': 1000,\n",
       "     u'fields': [u'keywords.pred_gender'],\n",
       "     u'step': u'saver',\n",
       "     u'type': u'squirro_item'}]},\n",
       "  u'created_at': u'2018-04-21T21:46:59',\n",
       "  u'id': u'J2WH8v4oRwKiaOCKLMKs2Q',\n",
       "  u'modified_at': u'2018-04-21T21:46:59',\n",
       "  u'name': u'gender_predictor',\n",
       "  u'project_id': u'fvQAaO0-RHqN0NbLkQGcnw'}}"
      ]
     },
     "execution_count": 15,
     "metadata": {},
     "output_type": "execute_result"
    }
   ],
   "source": [
    "client.get_machinelearning_workflow(project_id=PROJECT_ID, ml_workflow_id=workflow_id)"
   ]
  },
  {
   "cell_type": "markdown",
   "metadata": {},
   "source": [
    "# Create Training Job"
   ]
  },
  {
   "cell_type": "code",
   "execution_count": 20,
   "metadata": {},
   "outputs": [
    {
     "data": {
      "text/plain": [
       "{u'machinelearning_jobs': [{u'created_at': u'2018-04-21T21:47:24',\n",
       "   u'error_count': 0,\n",
       "   u'healthy': False,\n",
       "   u'id': u'sToW68BqTkm1Es4Y1Kf6Qg',\n",
       "   u'last_error': None,\n",
       "   u'last_error_at': None,\n",
       "   u'last_success_at': None,\n",
       "   u'ml_workflow_id': u'J2WH8v4oRwKiaOCKLMKs2Q',\n",
       "   u'modified_at': u'2018-04-21T21:47:24',\n",
       "   u'next_run_time_at': u'2018-04-21T22:02:24',\n",
       "   u'total_runs': 0,\n",
       "   u'type': u'training'}]}"
      ]
     },
     "execution_count": 20,
     "metadata": {},
     "output_type": "execute_result"
    }
   ],
   "source": [
    "client.get_machinelearning_jobs(ml_workflow_id=workflow_id, project_id=PROJECT_ID)"
   ]
  },
  {
   "cell_type": "code",
   "execution_count": 17,
   "metadata": {
    "collapsed": true
   },
   "outputs": [],
   "source": [
    "job_id = client.new_machinelearning_job(project_id=PROJECT_ID, ml_workflow_id=workflow_id, type='training').get('id')"
   ]
  },
  {
   "cell_type": "markdown",
   "metadata": {},
   "source": [
    "# Reset"
   ]
  },
  {
   "cell_type": "code",
   "execution_count": 58,
   "metadata": {},
   "outputs": [
    {
     "data": {
      "text/plain": [
       "{}"
      ]
     },
     "execution_count": 58,
     "metadata": {},
     "output_type": "execute_result"
    }
   ],
   "source": [
    "client.delete_machinelearning_job(ml_job_id=job_id, ml_workflow_id=workflow_id, project_id=PROJECT_ID)"
   ]
  },
  {
   "cell_type": "code",
   "execution_count": 61,
   "metadata": {},
   "outputs": [
    {
     "ename": "NotFoundError",
     "evalue": "(404, u'Not Found')",
     "output_type": "error",
     "traceback": [
      "\u001b[0;31m---------------------------------------------------------------------------\u001b[0m",
      "\u001b[0;31mNotFoundError\u001b[0m                             Traceback (most recent call last)",
      "\u001b[0;32m<ipython-input-61-d577dbc12bb9>\u001b[0m in \u001b[0;36m<module>\u001b[0;34m()\u001b[0m\n\u001b[0;32m----> 1\u001b[0;31m \u001b[0mclient\u001b[0m\u001b[0;34m.\u001b[0m\u001b[0mdelete_machinelearning_workflow\u001b[0m\u001b[0;34m(\u001b[0m\u001b[0mproject_id\u001b[0m\u001b[0;34m=\u001b[0m\u001b[0mPROJECT_ID\u001b[0m\u001b[0;34m,\u001b[0m \u001b[0mml_workflow_id\u001b[0m\u001b[0;34m=\u001b[0m\u001b[0mworkflow_id\u001b[0m\u001b[0;34m)\u001b[0m\u001b[0;34m\u001b[0m\u001b[0m\n\u001b[0m",
      "\u001b[0;32m/Users/alexdelin/squirro/python-squirro/squirro_client/topic/machinelearning.pyc\u001b[0m in \u001b[0;36mdelete_machinelearning_workflow\u001b[0;34m(self, project_id, ml_workflow_id)\u001b[0m\n\u001b[1;32m    124\u001b[0m         \u001b[0murl\u001b[0m \u001b[0;34m=\u001b[0m \u001b[0murl\u001b[0m\u001b[0;34m.\u001b[0m\u001b[0mformat\u001b[0m\u001b[0;34m(\u001b[0m\u001b[0mself\u001b[0m\u001b[0;34m.\u001b[0m\u001b[0mtopic_api_url\u001b[0m\u001b[0;34m,\u001b[0m \u001b[0mself\u001b[0m\u001b[0;34m.\u001b[0m\u001b[0mtenant\u001b[0m\u001b[0;34m,\u001b[0m \u001b[0mproject_id\u001b[0m\u001b[0;34m)\u001b[0m\u001b[0;34m\u001b[0m\u001b[0m\n\u001b[1;32m    125\u001b[0m         \u001b[0mres\u001b[0m \u001b[0;34m=\u001b[0m \u001b[0mself\u001b[0m\u001b[0;34m.\u001b[0m\u001b[0m_perform_request\u001b[0m\u001b[0;34m(\u001b[0m\u001b[0;34m'delete'\u001b[0m\u001b[0;34m,\u001b[0m \u001b[0murl\u001b[0m\u001b[0;34m,\u001b[0m \u001b[0mheaders\u001b[0m\u001b[0;34m=\u001b[0m\u001b[0mheaders\u001b[0m\u001b[0;34m)\u001b[0m\u001b[0;34m\u001b[0m\u001b[0m\n\u001b[0;32m--> 126\u001b[0;31m         \u001b[0;32mreturn\u001b[0m \u001b[0mself\u001b[0m\u001b[0;34m.\u001b[0m\u001b[0m_process_response\u001b[0m\u001b[0;34m(\u001b[0m\u001b[0mres\u001b[0m\u001b[0;34m,\u001b[0m \u001b[0;34m[\u001b[0m\u001b[0;36m204\u001b[0m\u001b[0;34m]\u001b[0m\u001b[0;34m)\u001b[0m\u001b[0;34m\u001b[0m\u001b[0m\n\u001b[0m\u001b[1;32m    127\u001b[0m \u001b[0;34m\u001b[0m\u001b[0m\n\u001b[1;32m    128\u001b[0m     \u001b[0;32mdef\u001b[0m \u001b[0mrun_machinelearning_workflow\u001b[0m\u001b[0;34m(\u001b[0m\u001b[0mself\u001b[0m\u001b[0;34m,\u001b[0m \u001b[0mproject_id\u001b[0m\u001b[0;34m,\u001b[0m \u001b[0mml_workflow_id\u001b[0m\u001b[0;34m,\u001b[0m \u001b[0mdata\u001b[0m\u001b[0;34m)\u001b[0m\u001b[0;34m:\u001b[0m\u001b[0;34m\u001b[0m\u001b[0m\n",
      "\u001b[0;32m/Users/alexdelin/squirro/python-squirro/squirro_client/base.pyc\u001b[0m in \u001b[0;36m_process_response\u001b[0;34m(self, res, expected_status_codes)\u001b[0m\n\u001b[1;32m    434\u001b[0m \u001b[0;34m\u001b[0m\u001b[0m\n\u001b[1;32m    435\u001b[0m         \u001b[0;32melif\u001b[0m \u001b[0mres\u001b[0m\u001b[0;34m.\u001b[0m\u001b[0mstatus_code\u001b[0m \u001b[0;34m==\u001b[0m \u001b[0;36m404\u001b[0m\u001b[0;34m:\u001b[0m\u001b[0;34m\u001b[0m\u001b[0m\n\u001b[0;32m--> 436\u001b[0;31m             \u001b[0;32mraise\u001b[0m \u001b[0mNotFoundError\u001b[0m\u001b[0;34m(\u001b[0m\u001b[0mres\u001b[0m\u001b[0;34m.\u001b[0m\u001b[0mstatus_code\u001b[0m\u001b[0;34m,\u001b[0m \u001b[0merror\u001b[0m\u001b[0;34m)\u001b[0m\u001b[0;34m\u001b[0m\u001b[0m\n\u001b[0m\u001b[1;32m    437\u001b[0m \u001b[0;34m\u001b[0m\u001b[0m\n\u001b[1;32m    438\u001b[0m         \u001b[0;32melif\u001b[0m \u001b[0mres\u001b[0m\u001b[0;34m.\u001b[0m\u001b[0mstatus_code\u001b[0m \u001b[0;34m==\u001b[0m \u001b[0;36m409\u001b[0m\u001b[0;34m:\u001b[0m\u001b[0;34m\u001b[0m\u001b[0m\n",
      "\u001b[0;31mNotFoundError\u001b[0m: (404, u'Not Found')"
     ]
    }
   ],
   "source": [
    "client.delete_machinelearning_workflow(project_id=PROJECT_ID, ml_workflow_id=workflow_id)"
   ]
  },
  {
   "cell_type": "code",
   "execution_count": null,
   "metadata": {
    "collapsed": true
   },
   "outputs": [],
   "source": []
  }
 ],
 "metadata": {
  "kernelspec": {
   "display_name": "Python 2",
   "language": "python",
   "name": "python2"
  },
  "language_info": {
   "codemirror_mode": {
    "name": "ipython",
    "version": 2
   },
   "file_extension": ".py",
   "mimetype": "text/x-python",
   "name": "python",
   "nbconvert_exporter": "python",
   "pygments_lexer": "ipython2",
   "version": "2.7.10"
  }
 },
 "nbformat": 4,
 "nbformat_minor": 2
}
