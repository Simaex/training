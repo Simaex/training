{
 "cells": [
  {
   "cell_type": "markdown",
   "metadata": {},
   "source": [
    "# Squirro machine learning service walkthrough"
   ]
  },
  {
   "cell_type": "markdown",
   "metadata": {},
   "source": [
    "## settings"
   ]
  },
  {
   "cell_type": "code",
   "execution_count": 202,
   "metadata": {},
   "outputs": [],
   "source": [
    "CLUSTER=''\n",
    "TOKEN=''\n",
    "PROJECT_ID=''"
   ]
  },
  {
   "cell_type": "markdown",
   "metadata": {},
   "source": [
    "## get Squirro client"
   ]
  },
  {
   "cell_type": "code",
   "execution_count": 103,
   "metadata": {},
   "outputs": [],
   "source": [
    "from squirro_client import SquirroClient\n",
    "client = SquirroClient(client_id=None, client_secret=None, cluster=CLUSTER)\n",
    "client.authenticate(refresh_token=TOKEN)"
   ]
  },
  {
   "cell_type": "markdown",
   "metadata": {},
   "source": [
    "## create machine learning workflow"
   ]
  },
  {
   "cell_type": "code",
   "execution_count": 187,
   "metadata": {},
   "outputs": [],
   "source": [
    "ml_workflow = {\n",
    "  \"dataset\": {\n",
    "    \"train\": {\"query_string\": \"dataset:train (label:sci.space OR label:soc.religion.christian OR label:alt.atheism)\"},\n",
    "    \"test\": {\"query_string\": \"dataset:test (label:sci.space OR label:soc.religion.christian OR label:alt.atheism)\"}\n",
    "  },\n",
    "  \"analyzer\": {\n",
    "    \"type\": \"classification\",\n",
    "    \"tag_field\": \"keywords.pred_label\",\n",
    "    \"label_field\": \"keywords.label\"\n",
    "  },\n",
    "  \"pipeline\": [{\n",
    "    \"step\": \"loader\",\n",
    "    \"type\": \"squirro_query\",\n",
    "    \"fields\": [\"body\", \"title\", \"keywords.label\"]\n",
    "  },{\n",
    "    \"step\": \"filter\",\n",
    "    \"type\": \"empty\",\n",
    "    \"fields\": [\"keywords.label\", \"body\", \"title\"]\n",
    "  },{\n",
    "    \"step\": \"filter\",\n",
    "    \"type\": \"join\",\n",
    "    \"input_field\": \"keywords.label\",\n",
    "    \"output_field\": \"keywords.label\"\n",
    "  },{\n",
    "    \"step\": \"filter\",\n",
    "    \"type\": \"merge\",\n",
    "    \"input_fields\": [\"body\", \"title\"],\n",
    "    \"output_field\": \"text\"\n",
    "  },{\n",
    "    \"step\": \"normalizers\",\n",
    "    \"types\": [\"html\", \"punctuation\", \"lowercase\", \"character\"],\n",
    "    \"fields\": [\"text\"]\n",
    "  },{\n",
    "    \"step\": \"tokenizer\",\n",
    "    \"type\": \"spaces\",\n",
    "    \"fields\": [\"text\"]\n",
    "  },{\n",
    "    \"step\": \"embedder\",\n",
    "    \"type\": \"dictionary\",\n",
    "    \"batch_size\": 1024,\n",
    "    \"input_field\": \"text\",\n",
    "    \"output_field\": \"indexed_text\"\n",
    "  },{\n",
    "    \"step\": \"checkpoint\",\n",
    "    \"type\": \"disk\",\n",
    "    \"do_randomize\": True,\n",
    "    \"batch_size\": 1\n",
    "  },{\n",
    "    \"step\": \"classifier\",\n",
    "    \"type\": \"cnn_seq2one\",\n",
    "    \"batch_size\": 1024,\n",
    "    \"dict_name\": \"dictionary\",\n",
    "    \"dropout_fraction\": 0.5,\n",
    "    \"embedding_dim\": 50,\n",
    "    \"explanation_field\": \"explanantion\",\n",
    "    \"input_field\": \"indexed_text\",\n",
    "    \"label_field\": \"keywords.label\",\n",
    "    \"labels\": [\"soc.religion.christian\", \"alt.atheism\", \"sci.space\"],\n",
    "    \"max_sequence_length\": 1000,\n",
    "    \"mini_batch_size\": 64,\n",
    "    \"n_epochs\": 10,\n",
    "    \"output_field\": \"keywords.pred_label\"\n",
    "  },{\n",
    "    \"step\": \"saver\",\n",
    "    \"type\": \"squirro_item\",\n",
    "    \"batch_size\": 1000,\n",
    "    \"fields\": [\"keywords.pred_label\"]\n",
    "  }]\n",
    "}"
   ]
  },
  {
   "cell_type": "markdown",
   "metadata": {},
   "source": [
    "## upload workflow"
   ]
  },
  {
   "cell_type": "code",
   "execution_count": 193,
   "metadata": {},
   "outputs": [
    {
     "data": {
      "text/plain": [
       "{u'machinelearning_workflows': []}"
      ]
     },
     "execution_count": 193,
     "metadata": {},
     "output_type": "execute_result"
    }
   ],
   "source": [
    "client.get_machinelearning_workflows(PROJECT_ID)"
   ]
  },
  {
   "cell_type": "code",
   "execution_count": 194,
   "metadata": {},
   "outputs": [],
   "source": [
    "ml_workflow_id = client.new_machinelearning_workflow(PROJECT_ID, name='e2e_cnn', config=ml_workflow).get('id')"
   ]
  },
  {
   "cell_type": "code",
   "execution_count": 195,
   "metadata": {},
   "outputs": [
    {
     "data": {
      "text/plain": [
       "{u'machinelearning_workflow': {u'config': {u'analyzer': {u'label_field': u'keywords.label',\n",
       "    u'tag_field': u'keywords.pred_label',\n",
       "    u'type': u'classification'},\n",
       "   u'dataset': {u'test': {u'query_string': u'dataset:test (label:sci.space OR label:soc.religion.christian OR label:alt.atheism)'},\n",
       "    u'train': {u'query_string': u'dataset:train (label:sci.space OR label:soc.religion.christian OR label:alt.atheism)'}},\n",
       "   u'pipeline': [{u'fields': [u'body', u'title', u'keywords.label'],\n",
       "     u'step': u'loader',\n",
       "     u'type': u'squirro_query'},\n",
       "    {u'fields': [u'keywords.label', u'body', u'title'],\n",
       "     u'step': u'filter',\n",
       "     u'type': u'empty'},\n",
       "    {u'input_field': u'keywords.label',\n",
       "     u'output_field': u'keywords.label',\n",
       "     u'step': u'filter',\n",
       "     u'type': u'join'},\n",
       "    {u'input_fields': [u'body', u'title'],\n",
       "     u'output_field': u'text',\n",
       "     u'step': u'filter',\n",
       "     u'type': u'merge'},\n",
       "    {u'fields': [u'text'],\n",
       "     u'step': u'normalizers',\n",
       "     u'types': [u'html', u'punctuation', u'lowercase', u'character']},\n",
       "    {u'fields': [u'text'], u'step': u'tokenizer', u'type': u'spaces'},\n",
       "    {u'batch_size': 1024,\n",
       "     u'input_field': u'text',\n",
       "     u'output_field': u'indexed_text',\n",
       "     u'step': u'embedder',\n",
       "     u'type': u'dictionary'},\n",
       "    {u'batch_size': 1,\n",
       "     u'do_randomize': True,\n",
       "     u'step': u'checkpoint',\n",
       "     u'type': u'disk'},\n",
       "    {u'batch_size': 1024,\n",
       "     u'dict_name': u'dictionary',\n",
       "     u'dropout_fraction': 0.5,\n",
       "     u'embedding_dim': 50,\n",
       "     u'explanation_field': u'explanantion',\n",
       "     u'input_field': u'indexed_text',\n",
       "     u'label_field': u'keywords.label',\n",
       "     u'labels': [u'soc.religion.christian', u'alt.atheism', u'sci.space'],\n",
       "     u'max_sequence_length': 1000,\n",
       "     u'mini_batch_size': 64,\n",
       "     u'n_epochs': 10,\n",
       "     u'output_field': u'keywords.pred_label',\n",
       "     u'step': u'classifier',\n",
       "     u'type': u'cnn_seq2one'},\n",
       "    {u'batch_size': 1000,\n",
       "     u'fields': [u'keywords.pred_label'],\n",
       "     u'step': u'saver',\n",
       "     u'type': u'squirro_item'}]},\n",
       "  u'created_at': u'2018-05-23T12:21:59',\n",
       "  u'id': u'OaZx5ZfsSuKz56tDX75p2g',\n",
       "  u'modified_at': u'2018-05-23T12:21:59',\n",
       "  u'name': u'e2e_cnn',\n",
       "  u'project_id': u'9jW00ur6Rhq44dD2roVByg'}}"
      ]
     },
     "execution_count": 195,
     "metadata": {},
     "output_type": "execute_result"
    }
   ],
   "source": [
    "client.get_machinelearning_workflow(PROJECT_ID, ml_workflow_id=ml_workflow_id)"
   ]
  },
  {
   "cell_type": "markdown",
   "metadata": {},
   "source": [
    "## create training job"
   ]
  },
  {
   "cell_type": "code",
   "execution_count": 196,
   "metadata": {},
   "outputs": [
    {
     "data": {
      "text/plain": [
       "{u'machinelearning_jobs': []}"
      ]
     },
     "execution_count": 196,
     "metadata": {},
     "output_type": "execute_result"
    }
   ],
   "source": [
    "client.get_machinelearning_jobs(PROJECT_ID, ml_workflow_id=ml_workflow_id)"
   ]
  },
  {
   "cell_type": "code",
   "execution_count": 197,
   "metadata": {},
   "outputs": [],
   "source": [
    "training_job_id = client.new_machinelearning_job(PROJECT_ID, ml_workflow_id=ml_workflow_id, type='training').get('id')"
   ]
  },
  {
   "cell_type": "code",
   "execution_count": 185,
   "metadata": {},
   "outputs": [
    {
     "data": {
      "text/plain": [
       "{u'machinelearning_job': {u'created_at': u'2018-05-23T11:59:36',\n",
       "  u'error_count': 2,\n",
       "  u'healthy': False,\n",
       "  u'id': u'CXy954RlQMOia98GUxUZfA',\n",
       "  u'last_error': u'`save_model` requires h5py.',\n",
       "  u'last_error_at': u'2018-05-23T12:15:47',\n",
       "  u'last_success_at': None,\n",
       "  u'ml_workflow_id': u'hnbPBVRuQ9G3sRIJiyvTMQ',\n",
       "  u'modified_at': u'2018-05-23T12:15:47',\n",
       "  u'next_run_time_at': u'2018-05-23T12:29:39',\n",
       "  u'total_runs': 2,\n",
       "  u'type': u'training'}}"
      ]
     },
     "execution_count": 185,
     "metadata": {},
     "output_type": "execute_result"
    }
   ],
   "source": [
    "client.get_machinelearning_job(PROJECT_ID, ml_workflow_id=ml_workflow_id, ml_job_id=training_job_id)"
   ]
  },
  {
   "cell_type": "markdown",
   "metadata": {},
   "source": [
    "## test on unlabeled data"
   ]
  },
  {
   "cell_type": "code",
   "execution_count": 201,
   "metadata": {},
   "outputs": [],
   "source": [
    "items = client.query(\n",
    "    PROJECT_ID,\n",
    "    query=\"dataset:test (label:sci.space OR label:soc.religion.christian OR label:alt.atheism)\",\n",
    "    count=1\n",
    ").get('items')"
   ]
  },
  {
   "cell_type": "code",
   "execution_count": null,
   "metadata": {},
   "outputs": [],
   "source": [
    "client.run_machinelearning_workflow(PROJECT_ID, ml_workflow_id=ml_workflow_id, items)"
   ]
  },
  {
   "cell_type": "markdown",
   "metadata": {},
   "source": [
    "## add machine learning workflow to pipelet"
   ]
  },
  {
   "cell_type": "code",
   "execution_count": null,
   "metadata": {},
   "outputs": [],
   "source": []
  },
  {
   "cell_type": "markdown",
   "metadata": {},
   "source": [
    "## create inference job"
   ]
  },
  {
   "cell_type": "code",
   "execution_count": null,
   "metadata": {},
   "outputs": [],
   "source": [
    "client.get_machinelearning_jobs(PROJECT_ID, ml_workflow_id=ml_workflow_id)"
   ]
  },
  {
   "cell_type": "code",
   "execution_count": null,
   "metadata": {},
   "outputs": [],
   "source": [
    "inference_job_id = client.new_machinelearning_job(PROJECT_ID, ml_workflow_id=ml_workflow_id, type='inference').get('id')"
   ]
  },
  {
   "cell_type": "code",
   "execution_count": null,
   "metadata": {},
   "outputs": [],
   "source": [
    "client.get_machinelearning_job(PROJECT_ID, ml_workflow_id=ml_workflow_id, ml_job_id=inference_job_id)"
   ]
  },
  {
   "cell_type": "markdown",
   "metadata": {},
   "source": [
    "## reset"
   ]
  },
  {
   "cell_type": "code",
   "execution_count": 189,
   "metadata": {
    "scrolled": true
   },
   "outputs": [
    {
     "data": {
      "text/plain": [
       "{}"
      ]
     },
     "execution_count": 189,
     "metadata": {},
     "output_type": "execute_result"
    }
   ],
   "source": [
    "client.delete_machinelearning_workflow(PROJECT_ID, ml_workflow_id=ml_workflow_id)"
   ]
  },
  {
   "cell_type": "markdown",
   "metadata": {},
   "source": [
    "# Local training"
   ]
  },
  {
   "cell_type": "code",
   "execution_count": null,
   "metadata": {},
   "outputs": [],
   "source": []
  }
 ],
 "metadata": {
  "kernelspec": {
   "display_name": "Python 2",
   "language": "python",
   "name": "python2"
  },
  "language_info": {
   "codemirror_mode": {
    "name": "ipython",
    "version": 2
   },
   "file_extension": ".py",
   "mimetype": "text/x-python",
   "name": "python",
   "nbconvert_exporter": "python",
   "pygments_lexer": "ipython2",
   "version": "2.7.14"
  }
 },
 "nbformat": 4,
 "nbformat_minor": 2
}
